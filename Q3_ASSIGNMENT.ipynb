{
 "cells": [
  {
   "cell_type": "code",
   "execution_count": 73,
   "id": "changing-wales",
   "metadata": {},
   "outputs": [],
   "source": [
    "import os\n",
    "import pandas as pd\n",
    "import glob\n",
    "from matplotlib import pyplot as plt\n",
    "%matplotlib inline \n",
    "import seaborn as sns \n",
    "import numpy as np"
   ]
  },
  {
   "cell_type": "code",
   "execution_count": 74,
   "id": "balanced-lunch",
   "metadata": {},
   "outputs": [],
   "source": [
    "# df_1 = pd.read_csv('/home/neel/Desktop/STOCK_DATA/TSLA.csv',header = 0,index_col = 0 ,parse_dates = True )\n",
    "# temp = df_1.index "
   ]
  },
  {
   "cell_type": "code",
   "execution_count": 75,
   "id": "corrected-complexity",
   "metadata": {},
   "outputs": [],
   "source": [
    "\n",
    "# assign directory\n",
    "# iterate over files in\n",
    "# that directory\n",
    "\n",
    "# path = \"/home/neel/Desktop/STOCK_DATA/*.csv\"\n",
    "# dictionary = {}\n",
    "# for fname in glob.glob(path):\n",
    "#     data = pd.read_csv(fname)\n",
    "#     li = fname.split('/')\n",
    "#     st = li[-1]\n",
    "#     column_name = st.split('.')[0]\n",
    "#     dictionary[column_name] = data['Adj Close']\n",
    "\n",
    "# df = pd.DataFrame(dictionary)\n",
    "# df_clean = df.set_index(temp)\n",
    "# df_clean.to_csv('Data_1.csv')"
   ]
  },
  {
   "cell_type": "markdown",
   "id": "consistent-exception",
   "metadata": {},
   "source": [
    "###  Data Loading and Top 20  returns "
   ]
  },
  {
   "cell_type": "markdown",
   "id": "moved-backup",
   "metadata": {},
   "source": [
    "#### data_1 file is used here "
   ]
  },
  {
   "cell_type": "code",
   "execution_count": null,
   "id": "accurate-durham",
   "metadata": {},
   "outputs": [],
   "source": [
    "d = pd.read_csv('Data_1.csv',index_col = 'Date',parse_dates=True)"
   ]
  },
  {
   "cell_type": "code",
   "execution_count": 44,
   "id": "advanced-vienna",
   "metadata": {},
   "outputs": [],
   "source": [
    "top_20 = d.drop(['CMCSA','ADBE','VZ','INTC','CSCO'],axis=1)"
   ]
  },
  {
   "cell_type": "code",
   "execution_count": 45,
   "id": "aggregate-candle",
   "metadata": {},
   "outputs": [],
   "source": [
    "rets = top_20.pct_change()"
   ]
  },
  {
   "cell_type": "code",
   "execution_count": 46,
   "id": "dependent-india",
   "metadata": {},
   "outputs": [
    {
     "data": {
      "text/html": [
       "<div>\n",
       "<style scoped>\n",
       "    .dataframe tbody tr th:only-of-type {\n",
       "        vertical-align: middle;\n",
       "    }\n",
       "\n",
       "    .dataframe tbody tr th {\n",
       "        vertical-align: top;\n",
       "    }\n",
       "\n",
       "    .dataframe thead th {\n",
       "        text-align: right;\n",
       "    }\n",
       "</style>\n",
       "<table border=\"1\" class=\"dataframe\">\n",
       "  <thead>\n",
       "    <tr style=\"text-align: right;\">\n",
       "      <th></th>\n",
       "      <th>PG</th>\n",
       "      <th>BRK-B</th>\n",
       "      <th>V</th>\n",
       "      <th>MSFT</th>\n",
       "      <th>FB</th>\n",
       "      <th>NVDA</th>\n",
       "      <th>JNJ</th>\n",
       "      <th>GOOG</th>\n",
       "      <th>XOM</th>\n",
       "      <th>MA</th>\n",
       "      <th>DIS</th>\n",
       "      <th>JPM</th>\n",
       "      <th>PYPL</th>\n",
       "      <th>HD</th>\n",
       "      <th>GOOGL</th>\n",
       "      <th>BAC</th>\n",
       "      <th>AAPL</th>\n",
       "      <th>TSLA</th>\n",
       "      <th>UNH</th>\n",
       "      <th>AMZN</th>\n",
       "    </tr>\n",
       "    <tr>\n",
       "      <th>Date</th>\n",
       "      <th></th>\n",
       "      <th></th>\n",
       "      <th></th>\n",
       "      <th></th>\n",
       "      <th></th>\n",
       "      <th></th>\n",
       "      <th></th>\n",
       "      <th></th>\n",
       "      <th></th>\n",
       "      <th></th>\n",
       "      <th></th>\n",
       "      <th></th>\n",
       "      <th></th>\n",
       "      <th></th>\n",
       "      <th></th>\n",
       "      <th></th>\n",
       "      <th></th>\n",
       "      <th></th>\n",
       "      <th></th>\n",
       "      <th></th>\n",
       "    </tr>\n",
       "  </thead>\n",
       "  <tbody>\n",
       "    <tr>\n",
       "      <th>2020-08-03</th>\n",
       "      <td>NaN</td>\n",
       "      <td>NaN</td>\n",
       "      <td>NaN</td>\n",
       "      <td>NaN</td>\n",
       "      <td>NaN</td>\n",
       "      <td>NaN</td>\n",
       "      <td>NaN</td>\n",
       "      <td>NaN</td>\n",
       "      <td>NaN</td>\n",
       "      <td>NaN</td>\n",
       "      <td>NaN</td>\n",
       "      <td>NaN</td>\n",
       "      <td>NaN</td>\n",
       "      <td>NaN</td>\n",
       "      <td>NaN</td>\n",
       "      <td>NaN</td>\n",
       "      <td>NaN</td>\n",
       "      <td>NaN</td>\n",
       "      <td>NaN</td>\n",
       "      <td>NaN</td>\n",
       "    </tr>\n",
       "    <tr>\n",
       "      <th>2020-08-04</th>\n",
       "      <td>0.019042</td>\n",
       "      <td>0.004918</td>\n",
       "      <td>0.008391</td>\n",
       "      <td>-0.015009</td>\n",
       "      <td>-0.008454</td>\n",
       "      <td>0.019754</td>\n",
       "      <td>-0.000882</td>\n",
       "      <td>-0.006430</td>\n",
       "      <td>0.028876</td>\n",
       "      <td>0.005759</td>\n",
       "      <td>0.008079</td>\n",
       "      <td>-0.005723</td>\n",
       "      <td>0.001319</td>\n",
       "      <td>0.006349</td>\n",
       "      <td>-0.006380</td>\n",
       "      <td>0.000800</td>\n",
       "      <td>0.006678</td>\n",
       "      <td>0.001347</td>\n",
       "      <td>0.002931</td>\n",
       "      <td>0.008657</td>\n",
       "    </tr>\n",
       "    <tr>\n",
       "      <th>2020-08-05</th>\n",
       "      <td>-0.002616</td>\n",
       "      <td>0.016880</td>\n",
       "      <td>0.019814</td>\n",
       "      <td>-0.001641</td>\n",
       "      <td>-0.002842</td>\n",
       "      <td>0.005255</td>\n",
       "      <td>0.008015</td>\n",
       "      <td>0.005898</td>\n",
       "      <td>0.008742</td>\n",
       "      <td>0.043290</td>\n",
       "      <td>0.087987</td>\n",
       "      <td>0.017373</td>\n",
       "      <td>0.028278</td>\n",
       "      <td>-0.001456</td>\n",
       "      <td>0.003930</td>\n",
       "      <td>0.015194</td>\n",
       "      <td>0.003625</td>\n",
       "      <td>-0.001332</td>\n",
       "      <td>0.026174</td>\n",
       "      <td>0.021091</td>\n",
       "    </tr>\n",
       "    <tr>\n",
       "      <th>2020-08-06</th>\n",
       "      <td>-0.005471</td>\n",
       "      <td>0.006876</td>\n",
       "      <td>0.013615</td>\n",
       "      <td>0.016014</td>\n",
       "      <td>0.064868</td>\n",
       "      <td>0.004319</td>\n",
       "      <td>-0.005728</td>\n",
       "      <td>0.017976</td>\n",
       "      <td>-0.004789</td>\n",
       "      <td>0.006524</td>\n",
       "      <td>0.025155</td>\n",
       "      <td>0.000309</td>\n",
       "      <td>0.005815</td>\n",
       "      <td>0.007066</td>\n",
       "      <td>0.017484</td>\n",
       "      <td>0.003151</td>\n",
       "      <td>0.034889</td>\n",
       "      <td>0.003071</td>\n",
       "      <td>0.005088</td>\n",
       "      <td>0.006231</td>\n",
       "    </tr>\n",
       "    <tr>\n",
       "      <th>2020-08-07</th>\n",
       "      <td>0.006330</td>\n",
       "      <td>0.021754</td>\n",
       "      <td>-0.012125</td>\n",
       "      <td>-0.017888</td>\n",
       "      <td>0.011912</td>\n",
       "      <td>-0.011998</td>\n",
       "      <td>0.007116</td>\n",
       "      <td>-0.003740</td>\n",
       "      <td>-0.004583</td>\n",
       "      <td>-0.006422</td>\n",
       "      <td>-0.006803</td>\n",
       "      <td>0.022008</td>\n",
       "      <td>-0.026753</td>\n",
       "      <td>0.008427</td>\n",
       "      <td>-0.004372</td>\n",
       "      <td>0.025128</td>\n",
       "      <td>-0.022736</td>\n",
       "      <td>-0.024752</td>\n",
       "      <td>0.009457</td>\n",
       "      <td>-0.017842</td>\n",
       "    </tr>\n",
       "    <tr>\n",
       "      <th>...</th>\n",
       "      <td>...</td>\n",
       "      <td>...</td>\n",
       "      <td>...</td>\n",
       "      <td>...</td>\n",
       "      <td>...</td>\n",
       "      <td>...</td>\n",
       "      <td>...</td>\n",
       "      <td>...</td>\n",
       "      <td>...</td>\n",
       "      <td>...</td>\n",
       "      <td>...</td>\n",
       "      <td>...</td>\n",
       "      <td>...</td>\n",
       "      <td>...</td>\n",
       "      <td>...</td>\n",
       "      <td>...</td>\n",
       "      <td>...</td>\n",
       "      <td>...</td>\n",
       "      <td>...</td>\n",
       "      <td>...</td>\n",
       "    </tr>\n",
       "    <tr>\n",
       "      <th>2021-07-26</th>\n",
       "      <td>0.003505</td>\n",
       "      <td>0.001113</td>\n",
       "      <td>0.004939</td>\n",
       "      <td>-0.002140</td>\n",
       "      <td>0.007220</td>\n",
       "      <td>-0.013498</td>\n",
       "      <td>0.000466</td>\n",
       "      <td>0.013268</td>\n",
       "      <td>0.025245</td>\n",
       "      <td>-0.001170</td>\n",
       "      <td>0.014761</td>\n",
       "      <td>0.006705</td>\n",
       "      <td>-0.005607</td>\n",
       "      <td>-0.004987</td>\n",
       "      <td>0.007668</td>\n",
       "      <td>0.011406</td>\n",
       "      <td>0.002895</td>\n",
       "      <td>0.022133</td>\n",
       "      <td>-0.009959</td>\n",
       "      <td>0.011809</td>\n",
       "    </tr>\n",
       "    <tr>\n",
       "      <th>2021-07-27</th>\n",
       "      <td>0.004063</td>\n",
       "      <td>0.007102</td>\n",
       "      <td>0.002717</td>\n",
       "      <td>-0.008684</td>\n",
       "      <td>-0.012485</td>\n",
       "      <td>-0.004457</td>\n",
       "      <td>0.004597</td>\n",
       "      <td>-0.020395</td>\n",
       "      <td>-0.011115</td>\n",
       "      <td>-0.006441</td>\n",
       "      <td>0.004252</td>\n",
       "      <td>-0.001319</td>\n",
       "      <td>-0.020600</td>\n",
       "      <td>-0.011836</td>\n",
       "      <td>-0.015929</td>\n",
       "      <td>-0.003934</td>\n",
       "      <td>-0.014900</td>\n",
       "      <td>-0.019525</td>\n",
       "      <td>0.003772</td>\n",
       "      <td>-0.019847</td>\n",
       "    </tr>\n",
       "    <tr>\n",
       "      <th>2021-07-28</th>\n",
       "      <td>-0.014839</td>\n",
       "      <td>-0.009545</td>\n",
       "      <td>-0.015901</td>\n",
       "      <td>-0.001117</td>\n",
       "      <td>0.014872</td>\n",
       "      <td>0.015358</td>\n",
       "      <td>-0.002780</td>\n",
       "      <td>-0.003034</td>\n",
       "      <td>0.006744</td>\n",
       "      <td>-0.017501</td>\n",
       "      <td>-0.002228</td>\n",
       "      <td>0.001651</td>\n",
       "      <td>0.004992</td>\n",
       "      <td>-0.005317</td>\n",
       "      <td>0.031797</td>\n",
       "      <td>0.003949</td>\n",
       "      <td>-0.012196</td>\n",
       "      <td>0.003412</td>\n",
       "      <td>-0.014286</td>\n",
       "      <td>0.001084</td>\n",
       "    </tr>\n",
       "    <tr>\n",
       "      <th>2021-07-29</th>\n",
       "      <td>0.005189</td>\n",
       "      <td>0.005969</td>\n",
       "      <td>0.003969</td>\n",
       "      <td>0.000978</td>\n",
       "      <td>-0.040077</td>\n",
       "      <td>0.008153</td>\n",
       "      <td>0.000000</td>\n",
       "      <td>0.001166</td>\n",
       "      <td>0.012195</td>\n",
       "      <td>0.014005</td>\n",
       "      <td>-0.004188</td>\n",
       "      <td>0.008570</td>\n",
       "      <td>-0.062289</td>\n",
       "      <td>0.005868</td>\n",
       "      <td>-0.002326</td>\n",
       "      <td>0.014424</td>\n",
       "      <td>0.004552</td>\n",
       "      <td>0.046941</td>\n",
       "      <td>0.007112</td>\n",
       "      <td>-0.008374</td>\n",
       "    </tr>\n",
       "    <tr>\n",
       "      <th>2021-07-30</th>\n",
       "      <td>0.019716</td>\n",
       "      <td>-0.005255</td>\n",
       "      <td>-0.006171</td>\n",
       "      <td>-0.005550</td>\n",
       "      <td>-0.005637</td>\n",
       "      <td>-0.008290</td>\n",
       "      <td>0.000116</td>\n",
       "      <td>-0.009664</td>\n",
       "      <td>-0.023078</td>\n",
       "      <td>-0.007381</td>\n",
       "      <td>-0.013064</td>\n",
       "      <td>-0.007974</td>\n",
       "      <td>-0.026980</td>\n",
       "      <td>0.002321</td>\n",
       "      <td>-0.007741</td>\n",
       "      <td>-0.008273</td>\n",
       "      <td>0.001511</td>\n",
       "      <td>0.014542</td>\n",
       "      <td>0.000340</td>\n",
       "      <td>-0.075649</td>\n",
       "    </tr>\n",
       "  </tbody>\n",
       "</table>\n",
       "<p>251 rows × 20 columns</p>\n",
       "</div>"
      ],
      "text/plain": [
       "                  PG     BRK-B         V      MSFT        FB      NVDA  \\\n",
       "Date                                                                     \n",
       "2020-08-03       NaN       NaN       NaN       NaN       NaN       NaN   \n",
       "2020-08-04  0.019042  0.004918  0.008391 -0.015009 -0.008454  0.019754   \n",
       "2020-08-05 -0.002616  0.016880  0.019814 -0.001641 -0.002842  0.005255   \n",
       "2020-08-06 -0.005471  0.006876  0.013615  0.016014  0.064868  0.004319   \n",
       "2020-08-07  0.006330  0.021754 -0.012125 -0.017888  0.011912 -0.011998   \n",
       "...              ...       ...       ...       ...       ...       ...   \n",
       "2021-07-26  0.003505  0.001113  0.004939 -0.002140  0.007220 -0.013498   \n",
       "2021-07-27  0.004063  0.007102  0.002717 -0.008684 -0.012485 -0.004457   \n",
       "2021-07-28 -0.014839 -0.009545 -0.015901 -0.001117  0.014872  0.015358   \n",
       "2021-07-29  0.005189  0.005969  0.003969  0.000978 -0.040077  0.008153   \n",
       "2021-07-30  0.019716 -0.005255 -0.006171 -0.005550 -0.005637 -0.008290   \n",
       "\n",
       "                 JNJ      GOOG       XOM        MA       DIS       JPM  \\\n",
       "Date                                                                     \n",
       "2020-08-03       NaN       NaN       NaN       NaN       NaN       NaN   \n",
       "2020-08-04 -0.000882 -0.006430  0.028876  0.005759  0.008079 -0.005723   \n",
       "2020-08-05  0.008015  0.005898  0.008742  0.043290  0.087987  0.017373   \n",
       "2020-08-06 -0.005728  0.017976 -0.004789  0.006524  0.025155  0.000309   \n",
       "2020-08-07  0.007116 -0.003740 -0.004583 -0.006422 -0.006803  0.022008   \n",
       "...              ...       ...       ...       ...       ...       ...   \n",
       "2021-07-26  0.000466  0.013268  0.025245 -0.001170  0.014761  0.006705   \n",
       "2021-07-27  0.004597 -0.020395 -0.011115 -0.006441  0.004252 -0.001319   \n",
       "2021-07-28 -0.002780 -0.003034  0.006744 -0.017501 -0.002228  0.001651   \n",
       "2021-07-29  0.000000  0.001166  0.012195  0.014005 -0.004188  0.008570   \n",
       "2021-07-30  0.000116 -0.009664 -0.023078 -0.007381 -0.013064 -0.007974   \n",
       "\n",
       "                PYPL        HD     GOOGL       BAC      AAPL      TSLA  \\\n",
       "Date                                                                     \n",
       "2020-08-03       NaN       NaN       NaN       NaN       NaN       NaN   \n",
       "2020-08-04  0.001319  0.006349 -0.006380  0.000800  0.006678  0.001347   \n",
       "2020-08-05  0.028278 -0.001456  0.003930  0.015194  0.003625 -0.001332   \n",
       "2020-08-06  0.005815  0.007066  0.017484  0.003151  0.034889  0.003071   \n",
       "2020-08-07 -0.026753  0.008427 -0.004372  0.025128 -0.022736 -0.024752   \n",
       "...              ...       ...       ...       ...       ...       ...   \n",
       "2021-07-26 -0.005607 -0.004987  0.007668  0.011406  0.002895  0.022133   \n",
       "2021-07-27 -0.020600 -0.011836 -0.015929 -0.003934 -0.014900 -0.019525   \n",
       "2021-07-28  0.004992 -0.005317  0.031797  0.003949 -0.012196  0.003412   \n",
       "2021-07-29 -0.062289  0.005868 -0.002326  0.014424  0.004552  0.046941   \n",
       "2021-07-30 -0.026980  0.002321 -0.007741 -0.008273  0.001511  0.014542   \n",
       "\n",
       "                 UNH      AMZN  \n",
       "Date                            \n",
       "2020-08-03       NaN       NaN  \n",
       "2020-08-04  0.002931  0.008657  \n",
       "2020-08-05  0.026174  0.021091  \n",
       "2020-08-06  0.005088  0.006231  \n",
       "2020-08-07  0.009457 -0.017842  \n",
       "...              ...       ...  \n",
       "2021-07-26 -0.009959  0.011809  \n",
       "2021-07-27  0.003772 -0.019847  \n",
       "2021-07-28 -0.014286  0.001084  \n",
       "2021-07-29  0.007112 -0.008374  \n",
       "2021-07-30  0.000340 -0.075649  \n",
       "\n",
       "[251 rows x 20 columns]"
      ]
     },
     "execution_count": 46,
     "metadata": {},
     "output_type": "execute_result"
    }
   ],
   "source": [
    "rets "
   ]
  },
  {
   "cell_type": "markdown",
   "id": "textile-intranet",
   "metadata": {},
   "source": [
    "### 5 least correlated selection"
   ]
  },
  {
   "cell_type": "code",
   "execution_count": 47,
   "id": "reverse-costs",
   "metadata": {},
   "outputs": [],
   "source": [
    "import random\n",
    "def correlation(dataset, threshold):\n",
    "    d = dataset.copy()\n",
    "    col_corr = set()\n",
    "    corr_matrix = d.corr()\n",
    "    for i in (range(len(corr_matrix.columns))):\n",
    "        for j in range(i):\n",
    "            if (abs(corr_matrix.iloc[i, j]) >= threshold) and (corr_matrix.columns[j] not in col_corr):\n",
    "                colname = corr_matrix.columns[i] \n",
    "                col_corr.add(colname)\n",
    "    return col_corr\n",
    "\n"
   ]
  },
  {
   "cell_type": "code",
   "execution_count": null,
   "id": "prescribed-running",
   "metadata": {},
   "outputs": [],
   "source": []
  },
  {
   "cell_type": "code",
   "execution_count": 48,
   "id": "scenic-inspiration",
   "metadata": {},
   "outputs": [
    {
     "data": {
      "image/png": "[encoded data removed]",
      "text/plain": [
       "<Figure size 720x720 with 1 Axes>"
      ]
     },
     "metadata": {
      "needs_background": "light"
     },
     "output_type": "display_data"
    }
   ],
   "source": [
    "plt.figure(figsize=(10,10))\n",
    "lower = np.zeros_like(rets.corr())\n",
    "lower[np.triu_indices_from(lower)] = True \n",
    "sns.heatmap(top_20.pct_change().corr()*100,cmap='RdBu_r',annot=True,mask = lower ,fmt='.0f',cbar=False)\n",
    "plt.show()"
   ]
  },
  {
   "cell_type": "code",
   "execution_count": 49,
   "id": "destroyed-botswana",
   "metadata": {},
   "outputs": [],
   "source": [
    "top_5 = rets.drop(list(correlation(rets,0.456)),axis = 1)"
   ]
  },
  {
   "cell_type": "code",
   "execution_count": 50,
   "id": "constant-hunger",
   "metadata": {},
   "outputs": [
    {
     "data": {
      "text/html": [
       "<div>\n",
       "<style scoped>\n",
       "    .dataframe tbody tr th:only-of-type {\n",
       "        vertical-align: middle;\n",
       "    }\n",
       "\n",
       "    .dataframe tbody tr th {\n",
       "        vertical-align: top;\n",
       "    }\n",
       "\n",
       "    .dataframe thead th {\n",
       "        text-align: right;\n",
       "    }\n",
       "</style>\n",
       "<table border=\"1\" class=\"dataframe\">\n",
       "  <thead>\n",
       "    <tr style=\"text-align: right;\">\n",
       "      <th></th>\n",
       "      <th>PG</th>\n",
       "      <th>BRK-B</th>\n",
       "      <th>MSFT</th>\n",
       "      <th>TSLA</th>\n",
       "      <th>UNH</th>\n",
       "    </tr>\n",
       "  </thead>\n",
       "  <tbody>\n",
       "    <tr>\n",
       "      <th>PG</th>\n",
       "      <td>100.000000</td>\n",
       "      <td>28.941279</td>\n",
       "      <td>36.498336</td>\n",
       "      <td>10.256594</td>\n",
       "      <td>38.626000</td>\n",
       "    </tr>\n",
       "    <tr>\n",
       "      <th>BRK-B</th>\n",
       "      <td>28.941279</td>\n",
       "      <td>100.000000</td>\n",
       "      <td>18.957874</td>\n",
       "      <td>4.657250</td>\n",
       "      <td>41.566113</td>\n",
       "    </tr>\n",
       "    <tr>\n",
       "      <th>MSFT</th>\n",
       "      <td>36.498336</td>\n",
       "      <td>18.957874</td>\n",
       "      <td>100.000000</td>\n",
       "      <td>45.321703</td>\n",
       "      <td>33.891717</td>\n",
       "    </tr>\n",
       "    <tr>\n",
       "      <th>TSLA</th>\n",
       "      <td>10.256594</td>\n",
       "      <td>4.657250</td>\n",
       "      <td>45.321703</td>\n",
       "      <td>100.000000</td>\n",
       "      <td>5.438138</td>\n",
       "    </tr>\n",
       "    <tr>\n",
       "      <th>UNH</th>\n",
       "      <td>38.626000</td>\n",
       "      <td>41.566113</td>\n",
       "      <td>33.891717</td>\n",
       "      <td>5.438138</td>\n",
       "      <td>100.000000</td>\n",
       "    </tr>\n",
       "  </tbody>\n",
       "</table>\n",
       "</div>"
      ],
      "text/plain": [
       "               PG       BRK-B        MSFT        TSLA         UNH\n",
       "PG     100.000000   28.941279   36.498336   10.256594   38.626000\n",
       "BRK-B   28.941279  100.000000   18.957874    4.657250   41.566113\n",
       "MSFT    36.498336   18.957874  100.000000   45.321703   33.891717\n",
       "TSLA    10.256594    4.657250   45.321703  100.000000    5.438138\n",
       "UNH     38.626000   41.566113   33.891717    5.438138  100.000000"
      ]
     },
     "execution_count": 50,
     "metadata": {},
     "output_type": "execute_result"
    }
   ],
   "source": [
    "top_5.corr()*100"
   ]
  },
  {
   "cell_type": "code",
   "execution_count": 51,
   "id": "overhead-idaho",
   "metadata": {},
   "outputs": [
    {
     "data": {
      "text/html": [
       "<div>\n",
       "<style scoped>\n",
       "    .dataframe tbody tr th:only-of-type {\n",
       "        vertical-align: middle;\n",
       "    }\n",
       "\n",
       "    .dataframe tbody tr th {\n",
       "        vertical-align: top;\n",
       "    }\n",
       "\n",
       "    .dataframe thead th {\n",
       "        text-align: right;\n",
       "    }\n",
       "</style>\n",
       "<table border=\"1\" class=\"dataframe\">\n",
       "  <thead>\n",
       "    <tr style=\"text-align: right;\">\n",
       "      <th></th>\n",
       "      <th>PG</th>\n",
       "      <th>BRK-B</th>\n",
       "      <th>MSFT</th>\n",
       "      <th>TSLA</th>\n",
       "      <th>UNH</th>\n",
       "    </tr>\n",
       "    <tr>\n",
       "      <th>Date</th>\n",
       "      <th></th>\n",
       "      <th></th>\n",
       "      <th></th>\n",
       "      <th></th>\n",
       "      <th></th>\n",
       "    </tr>\n",
       "  </thead>\n",
       "  <tbody>\n",
       "    <tr>\n",
       "      <th>2020-08-03</th>\n",
       "      <td>NaN</td>\n",
       "      <td>NaN</td>\n",
       "      <td>NaN</td>\n",
       "      <td>NaN</td>\n",
       "      <td>NaN</td>\n",
       "    </tr>\n",
       "    <tr>\n",
       "      <th>2020-08-04</th>\n",
       "      <td>0.019042</td>\n",
       "      <td>0.004918</td>\n",
       "      <td>-0.015009</td>\n",
       "      <td>0.001347</td>\n",
       "      <td>0.002931</td>\n",
       "    </tr>\n",
       "    <tr>\n",
       "      <th>2020-08-05</th>\n",
       "      <td>-0.002616</td>\n",
       "      <td>0.016880</td>\n",
       "      <td>-0.001641</td>\n",
       "      <td>-0.001332</td>\n",
       "      <td>0.026174</td>\n",
       "    </tr>\n",
       "    <tr>\n",
       "      <th>2020-08-06</th>\n",
       "      <td>-0.005471</td>\n",
       "      <td>0.006876</td>\n",
       "      <td>0.016014</td>\n",
       "      <td>0.003071</td>\n",
       "      <td>0.005088</td>\n",
       "    </tr>\n",
       "    <tr>\n",
       "      <th>2020-08-07</th>\n",
       "      <td>0.006330</td>\n",
       "      <td>0.021754</td>\n",
       "      <td>-0.017888</td>\n",
       "      <td>-0.024752</td>\n",
       "      <td>0.009457</td>\n",
       "    </tr>\n",
       "    <tr>\n",
       "      <th>...</th>\n",
       "      <td>...</td>\n",
       "      <td>...</td>\n",
       "      <td>...</td>\n",
       "      <td>...</td>\n",
       "      <td>...</td>\n",
       "    </tr>\n",
       "    <tr>\n",
       "      <th>2021-07-26</th>\n",
       "      <td>0.003505</td>\n",
       "      <td>0.001113</td>\n",
       "      <td>-0.002140</td>\n",
       "      <td>0.022133</td>\n",
       "      <td>-0.009959</td>\n",
       "    </tr>\n",
       "    <tr>\n",
       "      <th>2021-07-27</th>\n",
       "      <td>0.004063</td>\n",
       "      <td>0.007102</td>\n",
       "      <td>-0.008684</td>\n",
       "      <td>-0.019525</td>\n",
       "      <td>0.003772</td>\n",
       "    </tr>\n",
       "    <tr>\n",
       "      <th>2021-07-28</th>\n",
       "      <td>-0.014839</td>\n",
       "      <td>-0.009545</td>\n",
       "      <td>-0.001117</td>\n",
       "      <td>0.003412</td>\n",
       "      <td>-0.014286</td>\n",
       "    </tr>\n",
       "    <tr>\n",
       "      <th>2021-07-29</th>\n",
       "      <td>0.005189</td>\n",
       "      <td>0.005969</td>\n",
       "      <td>0.000978</td>\n",
       "      <td>0.046941</td>\n",
       "      <td>0.007112</td>\n",
       "    </tr>\n",
       "    <tr>\n",
       "      <th>2021-07-30</th>\n",
       "      <td>0.019716</td>\n",
       "      <td>-0.005255</td>\n",
       "      <td>-0.005550</td>\n",
       "      <td>0.014542</td>\n",
       "      <td>0.000340</td>\n",
       "    </tr>\n",
       "  </tbody>\n",
       "</table>\n",
       "<p>251 rows × 5 columns</p>\n",
       "</div>"
      ],
      "text/plain": [
       "                  PG     BRK-B      MSFT      TSLA       UNH\n",
       "Date                                                        \n",
       "2020-08-03       NaN       NaN       NaN       NaN       NaN\n",
       "2020-08-04  0.019042  0.004918 -0.015009  0.001347  0.002931\n",
       "2020-08-05 -0.002616  0.016880 -0.001641 -0.001332  0.026174\n",
       "2020-08-06 -0.005471  0.006876  0.016014  0.003071  0.005088\n",
       "2020-08-07  0.006330  0.021754 -0.017888 -0.024752  0.009457\n",
       "...              ...       ...       ...       ...       ...\n",
       "2021-07-26  0.003505  0.001113 -0.002140  0.022133 -0.009959\n",
       "2021-07-27  0.004063  0.007102 -0.008684 -0.019525  0.003772\n",
       "2021-07-28 -0.014839 -0.009545 -0.001117  0.003412 -0.014286\n",
       "2021-07-29  0.005189  0.005969  0.000978  0.046941  0.007112\n",
       "2021-07-30  0.019716 -0.005255 -0.005550  0.014542  0.000340\n",
       "\n",
       "[251 rows x 5 columns]"
      ]
     },
     "execution_count": 51,
     "metadata": {},
     "output_type": "execute_result"
    }
   ],
   "source": [
    "top_5"
   ]
  },
  {
   "cell_type": "markdown",
   "id": "general-management",
   "metadata": {},
   "source": [
    "### Annualized retruns and volatility"
   ]
  },
  {
   "cell_type": "code",
   "execution_count": 52,
   "id": "muslim-notification",
   "metadata": {},
   "outputs": [],
   "source": [
    "def get_annualized_return(df):\n",
    "    number_of_days = df.shape[0]\n",
    "    compound_returns = ((1+df).prod())-1\n",
    "    return_rate_per_day = (1+compound_returns)**(1/number_of_days) - 1\n",
    "    annualized_return  = (1+return_rate_per_day)**(252) - 1\n",
    "    return annualized_return"
   ]
  },
  {
   "cell_type": "code",
   "execution_count": 53,
   "id": "christian-triangle",
   "metadata": {},
   "outputs": [
    {
     "data": {
      "text/plain": [
       "PG       0.110322\n",
       "BRK-B    0.398478\n",
       "MSFT     0.329982\n",
       "TSLA     1.321551\n",
       "UNH      0.379880\n",
       "dtype: float64"
      ]
     },
     "execution_count": 53,
     "metadata": {},
     "output_type": "execute_result"
    }
   ],
   "source": [
    "get_annualized_return(top_5)"
   ]
  },
  {
   "cell_type": "code",
   "execution_count": 54,
   "id": "animal-mistake",
   "metadata": {},
   "outputs": [],
   "source": [
    "def get_annualized_vol(df):\n",
    "    annualized_vol = df.std()*((252)**0.5)\n",
    "    return annualized_vol"
   ]
  },
  {
   "cell_type": "code",
   "execution_count": 55,
   "id": "ordinary-xerox",
   "metadata": {},
   "outputs": [
    {
     "data": {
      "text/plain": [
       "PG       0.151321\n",
       "BRK-B    0.178192\n",
       "MSFT     0.250527\n",
       "TSLA     0.676493\n",
       "UNH      0.223808\n",
       "dtype: float64"
      ]
     },
     "execution_count": 55,
     "metadata": {},
     "output_type": "execute_result"
    }
   ],
   "source": [
    "get_annualized_vol(top_5)"
   ]
  },
  {
   "cell_type": "markdown",
   "id": "spare-composer",
   "metadata": {},
   "source": [
    "### Expected return and volatility of portfolio"
   ]
  },
  {
   "cell_type": "code",
   "execution_count": 56,
   "id": "aboriginal-casino",
   "metadata": {},
   "outputs": [],
   "source": [
    "def portfolio_return(weights,returns):\n",
    "    return (weights.T @ returns)\n"
   ]
  },
  {
   "cell_type": "code",
   "execution_count": 57,
   "id": "cellular-fountain",
   "metadata": {},
   "outputs": [],
   "source": [
    "def portfolio_vol(weights,covmat):\n",
    "    return (weights.T @ covmat @ weights)**0.5 "
   ]
  },
  {
   "cell_type": "markdown",
   "id": "following-adjustment",
   "metadata": {},
   "source": [
    "### Efficent frontier  and  sharpe ratio "
   ]
  },
  {
   "cell_type": "markdown",
   "id": "amber-texture",
   "metadata": {},
   "source": [
    "<b>Return for portfolio would be between the asset with minimum return and the asset with maximum return . All<br>weights are between 0 and 1 and sum up to 1 . Starting at the minimum level of return the Quadratic  optimizer finds<br> the weights which give minimum volatility for a given value of target return</b> "
   ]
  },
  {
   "cell_type": "code",
   "execution_count": 58,
   "id": "mounted-amber",
   "metadata": {},
   "outputs": [],
   "source": [
    "from scipy.optimize import minimize \n",
    "\n",
    "\n",
    "def vol_minimizer(er,cov,target_return, short_selling = False):\n",
    "    # number of assets \n",
    "    n_assets = er.shape[0] \n",
    "    \n",
    "    # starting point for optimisation \n",
    "    initial_guess = np.repeat(1/n_assets,n_assets)\n",
    "    \n",
    "    # Weights between 0 and 1 \n",
    "    bounds = ((0.0,1.0),)*n_assets \n",
    "    \n",
    "    # weights sum up to 1\n",
    "    cons_1 = {'type':'eq','fun': lambda weights : np.sum(weights) - 1 }\n",
    "    \n",
    "    # expected return for portfolio = target return \n",
    "    cons_2 = {'type':'eq','fun': lambda weights , er : portfolio_return(weights,er) - target_return ,\n",
    "             'args':(er,)}\n",
    "    \n",
    "    if (not(short_selling)):\n",
    "        optimal_weights = minimize(portfolio_vol,initial_guess ,bounds = bounds ,\n",
    "                               constraints = (cons_1,cons_2),\n",
    "                               args=(cov,),\n",
    "                               method = 'SLSQP' , \n",
    "                               options ={'disp':False})\n",
    "    else:\n",
    "        optimal_weights = minimize(portfolio_vol,initial_guess ,\n",
    "                               constraints = (cons_1,cons_2),\n",
    "                               args=(cov,),\n",
    "                               method = 'SLSQP' , \n",
    "                               options ={'disp':False})\n",
    "    \n",
    "    return optimal_weights.x\n",
    "    "
   ]
  },
  {
   "cell_type": "code",
   "execution_count": 59,
   "id": "metallic-consequence",
   "metadata": {},
   "outputs": [],
   "source": [
    "def plot_efficient_frontier(er,cov,n_points,short_selling=False):\n",
    "    # target return array \n",
    "    target_returns = np.linspace(er.min(),er.max(),n_points)\n",
    "    \n",
    "    # array of weights for each target return from optimizer \n",
    "    weights = [ vol_minimizer(er,cov,item,short_selling) for item in target_returns ]\n",
    "    \n",
    "    # x-axis and y-axis arrays for plotting efficient frontier \n",
    "    returns = [portfolio_return(item,er) for item in weights]\n",
    "    vol = [portfolio_vol(item,cov) for item in weights]\n",
    "    # line plot \n",
    "    ef = pd.DataFrame({'Expected_return':returns,'Volatility':vol})\n",
    "    ef.plot.line(x= 'Volatility' , y = 'Expected_return' , style ='.-')\n",
    "    "
   ]
  },
  {
   "cell_type": "markdown",
   "id": "expanded-award",
   "metadata": {},
   "source": [
    "### Efficient frontier"
   ]
  },
  {
   "cell_type": "code",
   "execution_count": 60,
   "id": "occupational-indonesia",
   "metadata": {},
   "outputs": [
    {
     "data": {
      "image/png": "[encoded data removed]",
      "text/plain": [
       "<Figure size 432x288 with 1 Axes>"
      ]
     },
     "metadata": {
      "needs_background": "light"
     },
     "output_type": "display_data"
    }
   ],
   "source": [
    "# expected returns of top 5 assets \n",
    "top_5_returns =  get_annualized_return(top_5)\n",
    "\n",
    "# covariance matrix of top 5 \n",
    "top_5_cov  =  top_5.cov()\n",
    "\n",
    "plot_efficient_frontier(top_5_returns,top_5_cov,20) "
   ]
  },
  {
   "cell_type": "markdown",
   "id": "threaded-proposition",
   "metadata": {},
   "source": [
    "### Sharpe Ratio \n",
    "<b> Minimum of the negative sharpe ratio is calculated with the help of minimizer to get max sharpe ratio <br>\n",
    "    There is no constraint on the expected return , the  optimizer find weights which give the <br>\n",
    "    maximum sharpe ratio for weights between 0 and 1 and sum = 1 <b>"
   ]
  },
  {
   "cell_type": "code",
   "execution_count": 61,
   "id": "fitting-malpractice",
   "metadata": {},
   "outputs": [],
   "source": [
    "def max_sharpe(risk_free_rate,er,cov,short_selling = False):\n",
    "    \n",
    "    # number of assets \n",
    "    n_assets = er.shape[0]\n",
    "    \n",
    "    # initial guess \n",
    "    initial_guess = np.repeat(1/n_assets,n_assets)\n",
    "    \n",
    "    # function to get sharpe ratio of portfolio\n",
    "    def neg_sharpe_ratio(weights,er,cov,risk_free_rate):\n",
    "        exp_ret = portfolio_return(weights,er)\n",
    "        vol = portfolio_vol(weights,cov)\n",
    "        return (risk_free_rate - exp_ret)/vol\n",
    "    \n",
    "    # bounds for weights   and weights = 1 constraint \n",
    "    bounds = ((0.0,1.0),)*n_assets \n",
    "    cons_1 = {'type':'eq','fun':lambda weights : np.sum(weights) - 1}\n",
    "    \n",
    "    if ( not(short_selling)):\n",
    "        optimal_w = minimize(neg_sharpe_ratio , initial_guess , bounds = bounds ,\n",
    "                        constraints = cons_1 , args = (er,cov,risk_free_rate,),\n",
    "                         method = 'SLSQP' , options = {'disp':False})\n",
    "    else:\n",
    "        optimal_w = minimize(neg_sharpe_ratio , initial_guess ,\n",
    "                        constraints = cons_1 , args = (er,cov,risk_free_rate,),\n",
    "                         method = 'SLSQP' , options = {'disp':False})\n",
    "    return optimal_w.x\n",
    "                         \n",
    "    "
   ]
  },
  {
   "cell_type": "code",
   "execution_count": 62,
   "id": "pediatric-currency",
   "metadata": {},
   "outputs": [],
   "source": [
    "def get_max_sharpe(risk_free_rate ,er,cov, disp_weights = False,short_selling=False):\n",
    "    \n",
    "    # optimal weights with maximum sharpe ratio \n",
    "    opt_w = max_sharpe(risk_free_rate,er,cov,short_selling)\n",
    "    \n",
    "    # portfolio return with max sharpe ratio\n",
    "    exp_ret = portfolio_return(opt_w,er)\n",
    "    \n",
    "    # portfolo volatility with max sharpe ratio \n",
    "    vol = portfolio_vol(opt_w,cov)\n",
    "    \n",
    "    #plotting of capital market line (CML)\n",
    "    plt.xlim(left = 0)\n",
    "    cml_x = [0,vol]\n",
    "    cml_y = [risk_free_rate,exp_ret]\n",
    "    plt.plot(cml_x,cml_y,color='green',marker='o',linestyle='dashed')\n",
    "    \n",
    "    # returns , volatiltiy and sharpe ratio rounded to 5 decimal places \n",
    "    ratio = round((exp_ret-risk_free_rate)/vol,3)\n",
    "    print(\"return :  {}\".format(round(exp_ret,5)))\n",
    "    print(\"volatility: {}\".format(round(vol,5)))\n",
    "    print(\"maximum sharpe ratio = {}\".format(ratio))\n",
    "    \n",
    "    # displaying weights is set True \n",
    "    if disp_weights:\n",
    "        w_df = pd.DataFrame({\"Weights\":[round(item,5)for item in opt_w]},index = er.index)\n",
    "        print(\"{}\\n\".format(w_df))\n",
    "        \n",
    "    # function to plot the effcient frontier and capital market line together on one plot\n",
    "def plot_ef_sharpe(er,cov,n_points,risk_free_rate,disp_weights=False,short_selling = False):\n",
    "    plot_efficient_frontier(er,cov,n_points,short_selling) \n",
    "    get_max_sharpe(risk_free_rate,er, cov ,disp_weights,short_selling)"
   ]
  },
  {
   "cell_type": "markdown",
   "id": "bizarre-argument",
   "metadata": {},
   "source": [
    "## Efficient frontier with sharpe ratio plots  and weights for  different combination of assets "
   ]
  },
  {
   "cell_type": "code",
   "execution_count": 63,
   "id": "sudden-rider",
   "metadata": {},
   "outputs": [],
   "source": [
    "#  This function drops all assets which have correlation of more than p \n",
    "# and gives the effficent frontier and sharpe ratio for these assets \n",
    "\n",
    "def pf_returns(p):\n",
    "    ret_new = rets.drop(list(correlation(rets,p)),axis = 1)\n",
    "    return (get_annualized_return(ret_new))\n",
    "    \n",
    "def pf_cov(p):\n",
    "    ret_new = rets.drop(list(correlation(rets,p)),axis = 1)\n",
    "    return ret_new.cov()"
   ]
  },
  {
   "cell_type": "markdown",
   "id": "final-edgar",
   "metadata": {},
   "source": [
    "#### 5 assets with the highest returns "
   ]
  },
  {
   "cell_type": "code",
   "execution_count": 64,
   "id": "senior-library",
   "metadata": {},
   "outputs": [
    {
     "data": {
      "text/plain": [
       "TSLA     1.321551\n",
       "GOOG     0.838627\n",
       "GOOGL    0.821569\n",
       "NVDA     0.777107\n",
       "JPM      0.627437\n",
       "BAC      0.572468\n",
       "DIS      0.515347\n",
       "XOM      0.470505\n",
       "FB       0.416067\n",
       "PYPL     0.400001\n",
       "BRK-B    0.398478\n",
       "UNH      0.379880\n",
       "AAPL     0.349559\n",
       "MSFT     0.329982\n",
       "V        0.301257\n",
       "HD       0.261772\n",
       "MA       0.241652\n",
       "JNJ      0.200292\n",
       "PG       0.110322\n",
       "AMZN     0.069600\n",
       "dtype: float64"
      ]
     },
     "execution_count": 64,
     "metadata": {},
     "output_type": "execute_result"
    }
   ],
   "source": [
    "get_annualized_return(rets).sort_values(ascending = False)"
   ]
  },
  {
   "cell_type": "code",
   "execution_count": 65,
   "id": "dramatic-above",
   "metadata": {},
   "outputs": [
    {
     "name": "stdout",
     "output_type": "stream",
     "text": [
      "return :  0.80979\n",
      "volatility: 0.01363\n",
      "maximum sharpe ratio = 55.728\n",
      "       Weights\n",
      "TSLA   0.09897\n",
      "GOOG   0.53029\n",
      "GOOGL  0.00000\n",
      "NVDA   0.01109\n",
      "JPM    0.35965\n",
      "\n"
     ]
    },
    {
     "data": {
      "image/png": "[encoded data removed]",
      "text/plain": [
       "<Figure size 432x288 with 1 Axes>"
      ]
     },
     "metadata": {
      "needs_background": "light"
     },
     "output_type": "display_data"
    }
   ],
   "source": [
    "high_ret = ['TSLA','GOOG','GOOGL','NVDA','JPM']\n",
    "ret = get_annualized_return(rets[high_ret])\n",
    "covmat = rets.cov().loc[high_ret,high_ret]\n",
    "plot_ef_sharpe(ret,covmat,20,0.05,disp_weights = True)"
   ]
  },
  {
   "cell_type": "markdown",
   "id": "faced-roots",
   "metadata": {},
   "source": [
    "#### 5 least correlated"
   ]
  },
  {
   "cell_type": "code",
   "execution_count": 66,
   "id": "classical-destruction",
   "metadata": {},
   "outputs": [
    {
     "name": "stdout",
     "output_type": "stream",
     "text": [
      "return :  0.55871\n",
      "volatility: 0.01173\n",
      "maximum sharpe ratio = 43.369\n",
      "       Weights\n",
      "PG     0.00000\n",
      "BRK-B  0.60138\n",
      "MSFT   0.00000\n",
      "TSLA   0.17803\n",
      "UNH    0.22059\n",
      "\n"
     ]
    },
    {
     "data": {
      "image/png": "[encoded data removed]",
      "text/plain": [
       "<Figure size 432x288 with 1 Axes>"
      ]
     },
     "metadata": {
      "needs_background": "light"
     },
     "output_type": "display_data"
    }
   ],
   "source": [
    "plot_ef_sharpe(pf_returns(0.456),pf_cov(0.456),20,0.05 , disp_weights = True)"
   ]
  },
  {
   "cell_type": "markdown",
   "id": "alpha-petite",
   "metadata": {},
   "source": [
    "####  All assets in one portfolio"
   ]
  },
  {
   "cell_type": "code",
   "execution_count": 67,
   "id": "sunset-metropolitan",
   "metadata": {},
   "outputs": [
    {
     "name": "stdout",
     "output_type": "stream",
     "text": [
      "return :  0.79012\n",
      "volatility: 0.01327\n",
      "maximum sharpe ratio = 55.795\n",
      "       Weights\n",
      "PG     0.00000\n",
      "BRK-B  0.00000\n",
      "V      0.00000\n",
      "MSFT   0.00000\n",
      "FB     0.00000\n",
      "NVDA   0.00846\n",
      "JNJ    0.00000\n",
      "GOOG   0.49989\n",
      "XOM    0.00000\n",
      "MA     0.00000\n",
      "DIS    0.02040\n",
      "JPM    0.33176\n",
      "PYPL   0.00000\n",
      "HD     0.00000\n",
      "GOOGL  0.00000\n",
      "BAC    0.00000\n",
      "AAPL   0.00000\n",
      "TSLA   0.09841\n",
      "UNH    0.04109\n",
      "AMZN   0.00000\n",
      "\n"
     ]
    },
    {
     "data": {
      "image/png": "[encoded data removed]",
      "text/plain": [
       "<Figure size 432x288 with 1 Axes>"
      ]
     },
     "metadata": {
      "needs_background": "light"
     },
     "output_type": "display_data"
    }
   ],
   "source": [
    "plot_ef_sharpe(pf_returns(1),pf_cov(1),20,0.05 , disp_weights = True)"
   ]
  },
  {
   "cell_type": "markdown",
   "id": "decreased-blake",
   "metadata": {},
   "source": [
    "#### assets having significant weights in previous portoflio"
   ]
  },
  {
   "cell_type": "code",
   "execution_count": 68,
   "id": "temporal-underground",
   "metadata": {},
   "outputs": [
    {
     "name": "stdout",
     "output_type": "stream",
     "text": [
      "return :  0.79139\n",
      "volatility: 0.01329\n",
      "maximum sharpe ratio = 55.79\n",
      "      Weights\n",
      "TSLA  0.10072\n",
      "JPM   0.33059\n",
      "DIS   0.02039\n",
      "UNH   0.04244\n",
      "GOOG  0.50586\n",
      "\n"
     ]
    },
    {
     "data": {
      "image/png": "[encoded data removed]",
      "text/plain": [
       "<Figure size 432x288 with 1 Axes>"
      ]
     },
     "metadata": {
      "needs_background": "light"
     },
     "output_type": "display_data"
    }
   ],
   "source": [
    "li = ['TSLA','JPM','DIS','UNH','GOOG']\n",
    "ret_mod = rets[li]\n",
    "cov_mod = rets.cov().loc[li,li]\n",
    "plot_ef_sharpe(get_annualized_return(ret_mod),cov_mod,20,0.05 , disp_weights = True)"
   ]
  },
  {
   "cell_type": "code",
   "execution_count": 69,
   "id": "renewable-diary",
   "metadata": {},
   "outputs": [
    {
     "data": {
      "image/png": "[encoded data removed]",
      "text/plain": [
       "<Figure size 432x288 with 1 Axes>"
      ]
     },
     "metadata": {
      "needs_background": "light"
     },
     "output_type": "display_data"
    }
   ],
   "source": [
    "mat = np.zeros_like(rets.corr().loc[li,li])\n",
    "mat[np.triu_indices_from(mat)]=True\n",
    "sns.heatmap( rets.corr().loc[li,li]*100,fmt='.0f',annot= True ,cmap='RdBu_r',mask =mat,cbar=False)\n",
    "plt.show()"
   ]
  },
  {
   "cell_type": "markdown",
   "id": "broadband-tiffany",
   "metadata": {},
   "source": [
    "### Portfolio with Short selling "
   ]
  },
  {
   "cell_type": "markdown",
   "id": "endless-familiar",
   "metadata": {},
   "source": [
    "<b> the bounds on the weights are removed in both the efficent frontier optimizer and max sharpe optimizer <br>\n",
    "    by setting short_selling = True in the plot_ef_sharpe function"
   ]
  },
  {
   "cell_type": "markdown",
   "id": "emerging-fiction",
   "metadata": {},
   "source": [
    "#### 5 least correlated "
   ]
  },
  {
   "cell_type": "code",
   "execution_count": 70,
   "id": "detected-monaco",
   "metadata": {},
   "outputs": [
    {
     "name": "stdout",
     "output_type": "stream",
     "text": [
      "return :  0.7058\n",
      "volatility: 0.01479\n",
      "maximum sharpe ratio = 44.351\n",
      "       Weights\n",
      "PG    -0.32718\n",
      "BRK-B  0.78752\n",
      "MSFT  -0.05479\n",
      "TSLA   0.23399\n",
      "UNH    0.36046\n",
      "\n"
     ]
    },
    {
     "data": {
      "image/png": "[encoded data removed]",
      "text/plain": [
       "<Figure size 432x288 with 1 Axes>"
      ]
     },
     "metadata": {
      "needs_background": "light"
     },
     "output_type": "display_data"
    }
   ],
   "source": [
    "plot_ef_sharpe(pf_returns(0.456),pf_cov(0.456),20,0.05 , disp_weights = True , short_selling = True)"
   ]
  },
  {
   "cell_type": "markdown",
   "id": "lined-remains",
   "metadata": {},
   "source": [
    "####  All assets in one portfolio"
   ]
  },
  {
   "cell_type": "code",
   "execution_count": 71,
   "id": "ahead-poison",
   "metadata": {
    "scrolled": true
   },
   "outputs": [
    {
     "name": "stdout",
     "output_type": "stream",
     "text": [
      "return :  1.97395\n",
      "volatility: 0.02407\n",
      "maximum sharpe ratio = 79.945\n",
      "       Weights\n",
      "PG    -0.28350\n",
      "BRK-B  0.61816\n",
      "V      0.45270\n",
      "MSFT  -0.47296\n",
      "FB    -0.25671\n",
      "NVDA   0.32397\n",
      "JNJ   -0.01291\n",
      "GOOG   1.86349\n",
      "XOM   -0.21782\n",
      "MA    -1.05062\n",
      "DIS    0.28622\n",
      "JPM    0.59796\n",
      "PYPL   0.04630\n",
      "HD    -0.07565\n",
      "GOOGL -0.32669\n",
      "BAC   -0.30481\n",
      "AAPL  -0.07701\n",
      "TSLA   0.23923\n",
      "UNH    0.27842\n",
      "AMZN  -0.62778\n",
      "\n"
     ]
    },
    {
     "data": {
      "image/png": "[encoded data removed]",
      "text/plain": [
       "<Figure size 432x288 with 1 Axes>"
      ]
     },
     "metadata": {
      "needs_background": "light"
     },
     "output_type": "display_data"
    }
   ],
   "source": [
    "plot_ef_sharpe(pf_returns(1),pf_cov(1),20,0.05 , disp_weights = True,short_selling = True)"
   ]
  },
  {
   "cell_type": "code",
   "execution_count": null,
   "id": "posted-deficit",
   "metadata": {},
   "outputs": [],
   "source": []
  }
 ],
 "metadata": {
  "kernelspec": {
   "display_name": "Python 3",
   "language": "python",
   "name": "python3"
  },
  "language_info": {
   "codemirror_mode": {
    "name": "ipython",
    "version": 3
   },
   "file_extension": ".py",
   "mimetype": "text/x-python",
   "name": "python",
   "nbconvert_exporter": "python",
   "pygments_lexer": "ipython3",
   "version": "3.7.6"
  }
 },
 "nbformat": 4,
 "nbformat_minor": 5
}
